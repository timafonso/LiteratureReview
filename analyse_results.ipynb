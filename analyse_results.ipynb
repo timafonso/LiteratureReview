{
 "cells": [
  {
   "cell_type": "markdown",
   "metadata": {},
   "source": [
    "#### Notebook For Analysis of the results obtained by Harzing's Publish or Perish"
   ]
  },
  {
   "cell_type": "markdown",
   "metadata": {},
   "source": [
    "CSV Files are stored in the \"csv_results\" folder and their names have the format:\n",
    "\n",
    "`{Search_Engine}_{keywords}`\n",
    "\n",
    "Where the keywords are separated by operators `AND`, `OR` and/or `AND NOT`"
   ]
  },
  {
   "cell_type": "markdown",
   "metadata": {},
   "source": [
    "Imports needed"
   ]
  },
  {
   "cell_type": "code",
   "execution_count": 1,
   "metadata": {},
   "outputs": [],
   "source": [
    "from process_results import (\n",
    " load_csv_file,\n",
    " parse_search_info,\n",
    " analyze_results,\n",
    " analyze_results_from_df,\n",
    " get_citation_trends,\n",
    " find_common_papers,\n",
    " save_results\n",
    ")"
   ]
  },
  {
   "cell_type": "code",
   "execution_count": 12,
   "metadata": {},
   "outputs": [
    {
     "name": "stdout",
     "output_type": "stream",
     "text": [
      "\n",
      "    Analyze all CSV files in the specified folder and return statistics.\n",
      "    \n",
      "    Args:\n",
      "        csv_folder (str): Path to folder containing CSV files\n",
      "        \n",
      "    Returns:\n",
      "        dict: Dictionary containing analysis results for each file\n",
      "    \n"
     ]
    }
   ],
   "source": [
    "# Look into functions documentation for more details\n",
    "def show_documentation(function_name):\n",
    "    print(f\"{function_name.__doc__}\")\n",
    "\n",
    "show_documentation(analyze_results)"
   ]
  },
  {
   "cell_type": "code",
   "execution_count": 5,
   "metadata": {},
   "outputs": [],
   "source": [
    "# Pandas configuration\n",
    "import pandas as pd\n",
    "pd.set_option('display.max_rows', None)  # Show all rows\n",
    "pd.set_option('display.max_columns', None)  # Show all columns\n",
    "pd.set_option('display.width', None)  # Auto-detect display width\n",
    "pd.set_option('display.max_colwidth', None)  # Show full content in each cell"
   ]
  },
  {
   "cell_type": "code",
   "execution_count": 7,
   "metadata": {},
   "outputs": [],
   "source": [
    "df1 = load_csv_file('csv_results/HPP_results/Scholar_APR_AND_Proof.csv')"
   ]
  }
 ],
 "metadata": {
  "kernelspec": {
   "display_name": "Python 3",
   "language": "python",
   "name": "python3"
  },
  "language_info": {
   "codemirror_mode": {
    "name": "ipython",
    "version": 3
   },
   "file_extension": ".py",
   "mimetype": "text/x-python",
   "name": "python",
   "nbconvert_exporter": "python",
   "pygments_lexer": "ipython3",
   "version": "3.12.3"
  }
 },
 "nbformat": 4,
 "nbformat_minor": 2
}
